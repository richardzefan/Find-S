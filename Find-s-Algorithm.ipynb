{
 "cells": [
  {
   "cell_type": "code",
   "execution_count": 1,
   "metadata": {},
   "outputs": [],
   "source": [
    "import pandas as pd"
   ]
  },
  {
   "cell_type": "code",
   "execution_count": 9,
   "metadata": {},
   "outputs": [
    {
     "data": {
      "text/html": [
       "<div>\n",
       "<style scoped>\n",
       "    .dataframe tbody tr th:only-of-type {\n",
       "        vertical-align: middle;\n",
       "    }\n",
       "\n",
       "    .dataframe tbody tr th {\n",
       "        vertical-align: top;\n",
       "    }\n",
       "\n",
       "    .dataframe thead th {\n",
       "        text-align: right;\n",
       "    }\n",
       "</style>\n",
       "<table border=\"1\" class=\"dataframe\">\n",
       "  <thead>\n",
       "    <tr style=\"text-align: right;\">\n",
       "      <th></th>\n",
       "      <th>Day</th>\n",
       "      <th>Weather</th>\n",
       "      <th>Temperature</th>\n",
       "      <th>Wind Velocity</th>\n",
       "      <th>Sport</th>\n",
       "    </tr>\n",
       "  </thead>\n",
       "  <tbody>\n",
       "    <tr>\n",
       "      <th>0</th>\n",
       "      <td>D1</td>\n",
       "      <td>Sunny</td>\n",
       "      <td>Normal</td>\n",
       "      <td>Slowly</td>\n",
       "      <td>Yes</td>\n",
       "    </tr>\n",
       "    <tr>\n",
       "      <th>1</th>\n",
       "      <td>D2</td>\n",
       "      <td>Sunny</td>\n",
       "      <td>Normal</td>\n",
       "      <td>Slowly</td>\n",
       "      <td>Yes</td>\n",
       "    </tr>\n",
       "    <tr>\n",
       "      <th>2</th>\n",
       "      <td>D3</td>\n",
       "      <td>Rainy</td>\n",
       "      <td>High</td>\n",
       "      <td>Slowly</td>\n",
       "      <td>No</td>\n",
       "    </tr>\n",
       "    <tr>\n",
       "      <th>3</th>\n",
       "      <td>D4</td>\n",
       "      <td>Sunny</td>\n",
       "      <td>Normal</td>\n",
       "      <td>Strong</td>\n",
       "      <td>Yes</td>\n",
       "    </tr>\n",
       "    <tr>\n",
       "      <th>4</th>\n",
       "      <td>D5</td>\n",
       "      <td>Rainy</td>\n",
       "      <td>High</td>\n",
       "      <td>Strong</td>\n",
       "      <td>No</td>\n",
       "    </tr>\n",
       "    <tr>\n",
       "      <th>5</th>\n",
       "      <td>D6</td>\n",
       "      <td>Sunny</td>\n",
       "      <td>Normal</td>\n",
       "      <td>Slowly</td>\n",
       "      <td>Yes</td>\n",
       "    </tr>\n",
       "  </tbody>\n",
       "</table>\n",
       "</div>"
      ],
      "text/plain": [
       "  Day Weather Temperature Wind Velocity Sport\n",
       "0  D1   Sunny      Normal        Slowly   Yes\n",
       "1  D2   Sunny      Normal        Slowly   Yes\n",
       "2  D3   Rainy        High        Slowly    No\n",
       "3  D4   Sunny      Normal        Strong   Yes\n",
       "4  D5   Rainy        High        Strong    No\n",
       "5  D6   Sunny      Normal        Slowly   Yes"
      ]
     },
     "execution_count": 9,
     "metadata": {},
     "output_type": "execute_result"
    }
   ],
   "source": [
    "data = pd.read_csv('dataset.csv')\n",
    "data"
   ]
  },
  {
   "cell_type": "code",
   "execution_count": 10,
   "metadata": {},
   "outputs": [
    {
     "name": "stdout",
     "output_type": "stream",
     "text": [
      "[['Sunny' 'Normal' 'Slowly' 'Yes']\n",
      " ['Sunny' 'Normal' 'Slowly' 'Yes']\n",
      " ['Rainy' 'High' 'Slowly' 'No']\n",
      " ['Sunny' 'Normal' 'Strong' 'Yes']\n",
      " ['Rainy' 'High' 'Strong' 'No']\n",
      " ['Sunny' 'Normal' 'Slowly' 'Yes']]\n"
     ]
    }
   ],
   "source": [
    "S = ['?','?','?','?'] #specific hypothesis \n",
    "dataT = data.values[:,1:5]   #data yang diambil tanpa label\n",
    "print(dataT)"
   ]
  },
  {
   "cell_type": "code",
   "execution_count": 11,
   "metadata": {},
   "outputs": [],
   "source": [
    "#Training\n",
    "#fungsi generalisasi dimana Exam->example,Spec->specific in\n",
    "def Generalisasi(Spec, Exam): \n",
    "    features = len(Exam)   #panjang baris\n",
    "    for i in range(features):\n",
    "        if(Spec[i] !=Exam[i]):   #ganti dengan '?' jika kedua nilai berbeda\n",
    "            Spec[i]='?'\n",
    "            \n",
    "        else:\n",
    "                Spec[i]=Exam[i]     #jika tidak, nilai Exam ditempatkan di Spec\n",
    "    print(\"Data : \",Exam)\n",
    "    print(\"Generalisasi : \", Spec) #Spesifik Hipotesis\n",
    "    \n",
    "    return(Spec)"
   ]
  },
  {
   "cell_type": "code",
   "execution_count": 12,
   "metadata": {},
   "outputs": [
    {
     "name": "stdout",
     "output_type": "stream",
     "text": [
      "6\n"
     ]
    }
   ],
   "source": [
    "datalen = len(data)\n",
    "print(datalen)"
   ]
  },
  {
   "cell_type": "code",
   "execution_count": 13,
   "metadata": {},
   "outputs": [
    {
     "name": "stdout",
     "output_type": "stream",
     "text": [
      "Data for training: ['Sunny' 'Normal' 'Slowly' 'Yes']\n"
     ]
    }
   ],
   "source": [
    "#1st data hipotesis\n",
    "for i in range(datalen):\n",
    "   #asumsi contoh positif(yes) pertama\n",
    "    val=data.values[i,:]    \n",
    "    if(val[-1]=='Yes'):\n",
    "        S = dataT[i,:]\n",
    "        break\n",
    "    else:\n",
    "        S = dataT[i+1,:]\n",
    "print(\"Data for training:\",S)"
   ]
  },
  {
   "cell_type": "code",
   "execution_count": 14,
   "metadata": {},
   "outputs": [
    {
     "name": "stdout",
     "output_type": "stream",
     "text": [
      "Data :  ['Sunny' 'Normal' 'Slowly' 'Yes']\n",
      "Generalisasi :  ['Sunny' 'Normal' 'Slowly' 'Yes']\n",
      "Data :  ['Sunny' 'Normal' 'Strong' 'Yes']\n",
      "Generalisasi :  ['Sunny' 'Normal' '?' 'Yes']\n",
      "Data :  ['Sunny' 'Normal' 'Slowly' 'Yes']\n",
      "Generalisasi :  ['Sunny' 'Normal' '?' 'Yes']\n",
      "Hipotesis yang didapat =  ['Sunny' 'Normal' '?' 'Yes']\n"
     ]
    }
   ],
   "source": [
    "for i in range(datalen-1):\n",
    "    val = data.values[i+1,:]\n",
    "    if(val[-1] == 'Yes'):\n",
    "        result = Generalisasi(S, dataT[i+1,:])  #manggil fungsi\n",
    "print('Hipotesis yang didapat = ',result)"
   ]
  },
  {
   "cell_type": "code",
   "execution_count": null,
   "metadata": {},
   "outputs": [],
   "source": []
  }
 ],
 "metadata": {
  "kernelspec": {
   "display_name": "Python 3",
   "language": "python",
   "name": "python3"
  },
  "language_info": {
   "codemirror_mode": {
    "name": "ipython",
    "version": 3
   },
   "file_extension": ".py",
   "mimetype": "text/x-python",
   "name": "python",
   "nbconvert_exporter": "python",
   "pygments_lexer": "ipython3",
   "version": "3.7.6"
  }
 },
 "nbformat": 4,
 "nbformat_minor": 4
}
